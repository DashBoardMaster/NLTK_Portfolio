{
 "cells": [
  {
   "cell_type": "markdown",
   "metadata": {},
   "source": [
    "AVP180003\n",
    "Amol Perubhatla"
   ]
  },
  {
   "cell_type": "markdown",
   "metadata": {},
   "source": [
    "WordNet is a large lexical database that contaions the semantic relations between the words of many languages. Parts of speech such as Nouns, verbs, and adjectives have been grouped into synsets. These synsets are linked through different relationships."
   ]
  },
  {
   "cell_type": "code",
   "execution_count": 54,
   "metadata": {},
   "outputs": [
    {
     "name": "stderr",
     "output_type": "stream",
     "text": [
      "[nltk_data] Downloading package sentiwordnet to\n",
      "[nltk_data]     C:\\Users\\pecan\\AppData\\Roaming\\nltk_data...\n",
      "[nltk_data]   Package sentiwordnet is already up-to-date!\n"
     ]
    }
   ],
   "source": [
    "from nltk.metrics import BigramAssocMeasures\n",
    "from nltk.collocations import BigramCollocationFinder\n",
    "import itertools\n",
    "from nltk.book import *\n",
    "from nltk.collocations import BigramCollocationFinder, BigramAssocMeasures\n",
    "import nltk\n",
    "from nltk.corpus import wordnet as wn\n",
    "from nltk.wsd import lesk\n",
    "nltk.download('sentiwordnet')\n",
    "from nltk.corpus import sentiwordnet as swn\n",
    "from nltk.corpus import stopwords\n"
   ]
  },
  {
   "cell_type": "code",
   "execution_count": 22,
   "metadata": {},
   "outputs": [
    {
     "name": "stdout",
     "output_type": "stream",
     "text": [
      "[Synset('bear.n.01'), Synset('bear.n.02')]\n"
     ]
    }
   ],
   "source": [
    "print(wn.synsets('bear', pos=wn.NOUN))\n",
    "bear = wn.synsets('bear', pos=wn.NOUN)[0]"
   ]
  },
  {
   "cell_type": "code",
   "execution_count": 23,
   "metadata": {},
   "outputs": [
    {
     "name": "stdout",
     "output_type": "stream",
     "text": [
      "massive plantigrade carnivorous or omnivorous mammals with long shaggy coats and strong claws\n",
      "[]\n",
      "[Lemma('bear.n.01.bear')]\n",
      "Synset('carnivore.n.01')\n",
      "Synset('placental.n.01')\n",
      "Synset('mammal.n.01')\n",
      "Synset('vertebrate.n.01')\n",
      "Synset('chordate.n.01')\n",
      "Synset('animal.n.01')\n",
      "Synset('organism.n.01')\n",
      "Synset('living_thing.n.01')\n",
      "Synset('whole.n.02')\n",
      "Synset('object.n.01')\n",
      "Synset('physical_entity.n.01')\n",
      "Synset('entity.n.01')\n"
     ]
    }
   ],
   "source": [
    "print(bear.definition())\n",
    "print(bear.examples())\n",
    "print(bear.lemmas())\n",
    "hyp = bear.hypernyms()[0]\n",
    "top = wn.synset('entity.n.01')\n",
    "while hyp:\n",
    "    print(hyp)\n",
    "    if hyp == top:\n",
    "        break\n",
    "    if hyp.hypernyms():\n",
    "        hyp = hyp.hypernyms()[0]\n"
   ]
  },
  {
   "cell_type": "markdown",
   "metadata": {},
   "source": [
    "The wordnet hierarchy for noun seems to get broader as you scale up the hierarchy. This is because the word falls under broader and broader categories as you scale"
   ]
  },
  {
   "cell_type": "code",
   "execution_count": 24,
   "metadata": {},
   "outputs": [
    {
     "name": "stdout",
     "output_type": "stream",
     "text": [
      "[Synset('carnivore.n.01')]\n",
      "[Synset('american_black_bear.n.01'), Synset('asiatic_black_bear.n.01'), Synset('bear_cub.n.01'), Synset('brown_bear.n.01'), Synset('bruin.n.01'), Synset('ice_bear.n.01'), Synset('sloth_bear.n.01')]\n",
      "[]\n",
      "[]\n",
      "[]\n"
     ]
    }
   ],
   "source": [
    "print(bear.hypernyms())\n",
    "print(bear.hyponyms())\n",
    "print(bear.part_meronyms())\n",
    "print(bear.part_holonyms())\n",
    "print(bear.lemmas()[0].antonyms())\n"
   ]
  },
  {
   "cell_type": "code",
   "execution_count": 7,
   "metadata": {},
   "outputs": [],
   "source": [
    "wn.synsets('walk', pos=wn.VERB)\n",
    "walk = wn.synsets('walk', pos=wn.VERB)[0]\n"
   ]
  },
  {
   "cell_type": "code",
   "execution_count": 11,
   "metadata": {},
   "outputs": [
    {
     "name": "stdout",
     "output_type": "stream",
     "text": [
      "use one's feet to advance; advance by steps\n",
      "[\"Walk, don't run!\", 'We walked instead of driving', 'She walks with a slight limp', 'The patient cannot walk yet', 'Walk over to the cabinet']\n",
      "[Lemma('walk.v.01.walk')]\n",
      "[Synset('travel.v.01')]\n",
      "Synset('travel.v.01')\n"
     ]
    }
   ],
   "source": [
    "print(wn.synset('walk.v.01').definition())\n",
    "print(wn.synset('walk.v.01').examples())\n",
    "print(wn.synset('walk.v.01').lemmas())\n",
    "hyp = walk.hypernyms()[0]\n",
    "top = wn.synset('travel.v.01')\n",
    "while hyp:\n",
    "    print(hyp)\n",
    "    if hyp == top:\n",
    "        break\n",
    "    if hyp.hypernyms():\n",
    "        hyp = hyp.hypernyms()[0]\n"
   ]
  },
  {
   "cell_type": "markdown",
   "metadata": {},
   "source": [
    "The hierarchy for verbs goes from narrower categories to a broader category at the top level."
   ]
  },
  {
   "cell_type": "code",
   "execution_count": 24,
   "metadata": {},
   "outputs": [],
   "source": [
    "wn.morphy('walk',wn.VERB)\n",
    "wn.morphy('walking')\n",
    "wn.morphy('walk', wn.VERB)\n",
    "wn.morphy('walker', wn.VERB)\n"
   ]
  },
  {
   "cell_type": "code",
   "execution_count": 28,
   "metadata": {},
   "outputs": [
    {
     "data": {
      "text/plain": [
       "0.125"
      ]
     },
     "execution_count": 28,
     "metadata": {},
     "output_type": "execute_result"
    }
   ],
   "source": [
    "rabbit = wn.synsets('rabbit')[0]\n",
    "deer = wn.synsets('deer')[0]\n",
    "rabbit.path_similarity(deer)"
   ]
  },
  {
   "cell_type": "code",
   "execution_count": 30,
   "metadata": {},
   "outputs": [
    {
     "data": {
      "text/plain": [
       "0.7586206896551724"
      ]
     },
     "execution_count": 30,
     "metadata": {},
     "output_type": "execute_result"
    }
   ],
   "source": [
    "wn.wup_similarity(rabbit,deer)"
   ]
  },
  {
   "cell_type": "code",
   "execution_count": 32,
   "metadata": {},
   "outputs": [
    {
     "name": "stdout",
     "output_type": "stream",
     "text": [
      "Synset('deer.n.01') distinguished from Bovidae by the male's having solid deciduous antlers\n"
     ]
    }
   ],
   "source": [
    "for ss in wn.synsets('deer'):\n",
    "    print(ss, ss.definition())\n"
   ]
  },
  {
   "cell_type": "code",
   "execution_count": 36,
   "metadata": {},
   "outputs": [
    {
     "name": "stdout",
     "output_type": "stream",
     "text": [
      "Synset('deer.n.01')\n",
      "Synset('deer.n.01')\n"
     ]
    }
   ],
   "source": [
    "sent = ['I','ate','the','deer']\n",
    "print(lesk(sent,'deer'))\n",
    "print(lesk(sent,'deer', pos='n'))"
   ]
  },
  {
   "cell_type": "markdown",
   "metadata": {},
   "source": [
    "Because deer isn't as common a word as some others there aren't many synsets for it. Deer and rabbit have pretty high similarity because they are both forest animals. You can see this through the Wu Palmer similarity of .7586..."
   ]
  },
  {
   "cell_type": "code",
   "execution_count": 40,
   "metadata": {},
   "outputs": [
    {
     "name": "stdout",
     "output_type": "stream",
     "text": [
      "<sluggish.s.01: PosScore=0.0 NegScore=0.0>\n",
      "<dull.s.08: PosScore=0.0 NegScore=0.5>\n",
      "<inert.s.03: PosScore=0.25 NegScore=0.125>\n"
     ]
    }
   ],
   "source": [
    "senti_list = list(swn.senti_synsets('sluggish'))\n",
    "for item in senti_list:\n",
    "    print(item)\n"
   ]
  },
  {
   "cell_type": "code",
   "execution_count": 41,
   "metadata": {},
   "outputs": [
    {
     "name": "stdout",
     "output_type": "stream",
     "text": [
      "<sluggish.s.01: PosScore=0.0 NegScore=0.0>\n",
      "<dull.s.08: PosScore=0.0 NegScore=0.5>\n",
      "<inert.s.03: PosScore=0.25 NegScore=0.125>\n"
     ]
    }
   ],
   "source": [
    "senti_list = list(swn.senti_synsets('sluggish','a'))\n",
    "for item in senti_list:\n",
    "    print(item)\n"
   ]
  },
  {
   "cell_type": "code",
   "execution_count": 42,
   "metadata": {},
   "outputs": [
    {
     "name": "stdout",
     "output_type": "stream",
     "text": [
      "negative:  0.0\n",
      "positive:  0.0\n",
      "objective:  1.0\n"
     ]
    }
   ],
   "source": [
    "p = list(swn.senti_synsets('sluggish'))[0]\n",
    "print(\"negative: \", p.neg_score())\n",
    "print(\"positive: \", p.pos_score())\n",
    "print(\"objective: \", p.obj_score())\n"
   ]
  },
  {
   "cell_type": "code",
   "execution_count": 45,
   "metadata": {},
   "outputs": [
    {
     "name": "stdout",
     "output_type": "stream",
     "text": [
      "neg\tpos counts\n",
      "0.625 \t 0.0\n"
     ]
    }
   ],
   "source": [
    "sent = 'The terrible snail was sluggish as it returned home'\n",
    "neg = 0\n",
    "pos = 0\n",
    "tokens = sent.split()\n",
    "for token in tokens:\n",
    "    syn_list = list(swn.senti_synsets(token))\n",
    "    if syn_list:\n",
    "        syn = syn_list[0]\n",
    "        neg += syn.neg_score()\n",
    "        pos += syn.pos_score()\n",
    "\n",
    "print(\"neg\\tpos counts\")\n",
    "print(neg, '\\t', pos)\n"
   ]
  },
  {
   "cell_type": "markdown",
   "metadata": {},
   "source": [
    "SentiWordNet can be used for sentiment analysis of words and sentences. It gives scores for objective, positive, and negative words in sentences. The polarity was negative because I added terrible to the sentence which has a negative sentiment. Before I added terrible the sentence was neutral as it was 0,0. These scores can be useful for deciding whether a sentence is positive or negative and can be used for understanding tone in text."
   ]
  },
  {
   "cell_type": "code",
   "execution_count": 55,
   "metadata": {},
   "outputs": [
    {
     "name": "stdout",
     "output_type": "stream",
     "text": [
      "United States; fellow citizens; years ago; four years; Federal\n",
      "Government; General Government; American people; Vice President; God\n",
      "bless; Chief Justice; one another; fellow Americans; Old World;\n",
      "Almighty God; Fellow citizens; Chief Magistrate; every citizen; Indian\n",
      "tribes; public debt; foreign nations\n"
     ]
    }
   ],
   "source": [
    "text4.collocations()\n",
    "stopwords_ = set(stopwords.words('english'))\n",
    "\n",
    "\n",
    "def bigram_word_feats(words, score_fn=BigramAssocMeasures.chi_sq, n=200):\n",
    "    bigram_finder = BigramCollocationFinder.from_words(words)\n",
    "    bigrams = bigram_finder.nbest(score_fn, n)\n",
    "    return dict([(ngram, True) for ngram in itertools.chain(words, bigrams)\n",
    "                if type(ngram) == tuple])\n"
   ]
  },
  {
   "cell_type": "code",
   "execution_count": 56,
   "metadata": {},
   "outputs": [
    {
     "data": {
      "text/plain": [
       "{('/', '11'): True,\n",
       " ('25', 'straight'): True,\n",
       " ('Amelia', 'Island'): True,\n",
       " ('Apollo', 'astronauts'): True,\n",
       " ('Archibald', 'MacLeish'): True,\n",
       " ('BUSINESS', 'COOPERATION'): True,\n",
       " ('Barbary', 'Powers'): True,\n",
       " ('Belleau', 'Wood'): True,\n",
       " ('Boston', 'lawyer'): True,\n",
       " ('Britannic', 'Majesty'): True,\n",
       " ('COOPERATION', 'BY'): True,\n",
       " ('CRIMINAL', 'JUSTICE'): True,\n",
       " ('Calvin', 'Coolidge'): True,\n",
       " ('Cape', 'Horn'): True,\n",
       " ('Cardinal', 'Bernardin'): True,\n",
       " ('Chop', 'Hill'): True,\n",
       " ('Chosin', 'Reservoir'): True,\n",
       " ('Christmas', 'Eve'): True,\n",
       " ('Colonel', 'Goethals'): True,\n",
       " ('Dark', 'pictures'): True,\n",
       " ('Domestic', 'Product'): True,\n",
       " ('EIGHTEENTH', 'AMENDMENT'): True,\n",
       " ('Emancipation', 'Proclamation'): True,\n",
       " ('English', 'writer'): True,\n",
       " ('Fort', 'Sumter'): True,\n",
       " ('Gatun', 'dam'): True,\n",
       " ('Golden', 'Rule'): True,\n",
       " ('Gross', 'Domestic'): True,\n",
       " ('Growing', 'connections'): True,\n",
       " ('Hague', 'Tribunal'): True,\n",
       " ('Herein', 'flows'): True,\n",
       " ('Holy', 'Writ'): True,\n",
       " ('Hope', 'maketh'): True,\n",
       " ('Information', 'Age'): True,\n",
       " ('Iwo', 'Jima'): True,\n",
       " ('Joseph', 'Warren'): True,\n",
       " ('Julia', 'Coleman'): True,\n",
       " ('Khe', 'Sahn'): True,\n",
       " ('Lady', 'Michelle'): True,\n",
       " ('MANDATES', 'FROM'): True,\n",
       " ('Magna', 'Charta'): True,\n",
       " ('Mayflower', 'Compact'): True,\n",
       " ('Miss', 'Julia'): True,\n",
       " ('NATIONAL', 'INVESTIGATION'): True,\n",
       " ('Naval', 'Commissioners'): True,\n",
       " ('November', '1963'): True,\n",
       " ('OTHER', 'MANDATES'): True,\n",
       " ('Omaha', 'Beach'): True,\n",
       " ('PARTY', 'RESPONSIBILITIES'): True,\n",
       " ('PUBLIC', 'HEALTH'): True,\n",
       " ('Panama', 'Canal'): True,\n",
       " ('Penetrating', 'internally'): True,\n",
       " ('Persistent', 'importunity'): True,\n",
       " ('Philippine', 'Islands'): True,\n",
       " ('Pork', 'Chop'): True,\n",
       " ('Porto', 'Rico'): True,\n",
       " ('Reflecting', 'Pool'): True,\n",
       " ('Representative', 'Gillis'): True,\n",
       " ('Rio', 'de'): True,\n",
       " ('Rocky', 'Mountains'): True,\n",
       " ('SPECIAL', 'SESSION'): True,\n",
       " ('Saint', 'Augustine'): True,\n",
       " ('Santo', 'Domingo'): True,\n",
       " ('Seneca', 'Falls'): True,\n",
       " ('Superficial', 'observers'): True,\n",
       " ('TO', 'BUSINESS'): True,\n",
       " ('Valley', 'Forge'): True,\n",
       " ('WORLD', 'PEACE'): True,\n",
       " ('Winston', 'Churchill'): True,\n",
       " ('Xthe', 'unfinished'): True,\n",
       " ('adventurously', 'ascended'): True,\n",
       " ('agonizing', 'spasms'): True,\n",
       " ('approximate', 'disarmament'): True,\n",
       " ('astronauts', 'flew'): True,\n",
       " ('bona', 'fide'): True,\n",
       " ('broadcast', 'instantaneously'): True,\n",
       " ('bulky', 'merchandise'): True,\n",
       " ('casual', 'observer'): True,\n",
       " ('cheap', 'routes'): True,\n",
       " ('childhood', 'rocked'): True,\n",
       " ('clarified', 'atmosphere'): True,\n",
       " ('concise', 'enumeration'): True,\n",
       " ('convenient', 'coaling'): True,\n",
       " ('conventional', 'stipulations'): True,\n",
       " ('cordially', 'concur'): True,\n",
       " ('crippling', 'drought'): True,\n",
       " ('de', 'Janeiro'): True,\n",
       " ('defamatory', 'publications'): True,\n",
       " ('delicious', 'recollection'): True,\n",
       " ('delusive', 'speculations'): True,\n",
       " ('densely', 'populated'): True,\n",
       " ('deplorably', 'saps'): True,\n",
       " ('disfranchised', 'peasantry'): True,\n",
       " ('domiciliary', 'vexation'): True,\n",
       " ('efficiently', 'performs'): True,\n",
       " ('elder', 'Brutus'): True,\n",
       " ('elementary', 'decencies'): True,\n",
       " ('embittered', 'travail'): True,\n",
       " ('entailing', 'idleness'): True,\n",
       " ('errant', 'humors'): True,\n",
       " ('excursions', 'whither'): True,\n",
       " ('explicitly', 'parted'): True,\n",
       " ('exterminating', 'havoc'): True,\n",
       " ('famed', 'Rainbow'): True,\n",
       " ('fondest', 'predilection'): True,\n",
       " ('funeral', 'pile'): True,\n",
       " ('green', 'slopes'): True,\n",
       " ('habeas', 'corpus'): True,\n",
       " ('impassable', 'wall'): True,\n",
       " ('imperishable', 'glories'): True,\n",
       " ('impracticable', 'withal'): True,\n",
       " ('indignantly', 'frowning'): True,\n",
       " ('instantaneously', 'tobillions'): True,\n",
       " ('insurmountable', 'arose'): True,\n",
       " ('intensely', 'modem'): True,\n",
       " ('jailed', 'dissidents'): True,\n",
       " ('joyful', 'mountaintop'): True,\n",
       " ('keen', 'rivalry'): True,\n",
       " ('laissez', 'faire'): True,\n",
       " ('legalized', 'larceny'): True,\n",
       " ('lifeless', 'tree'): True,\n",
       " ('lightly', 'burthened'): True,\n",
       " ('literary', 'altercation'): True,\n",
       " ('luring', 'fallacy'): True,\n",
       " ('measureless', 'wastage'): True,\n",
       " ('mystic', 'chords'): True,\n",
       " ('narrowly', 'nationalistic'): True,\n",
       " ('needless', 'additions'): True,\n",
       " ('nourish', 'starved'): True,\n",
       " ('obsessions', 'cripple'): True,\n",
       " ('outlaw', 'regimes'): True,\n",
       " ('paraphrase', 'Winston'): True,\n",
       " ('pitiable', 'slackerism'): True,\n",
       " ('plainest', 'implication'): True,\n",
       " ('poet', 'Archibald'): True,\n",
       " ('preoccupations', 'absorbing'): True,\n",
       " ('pres', 'urgently'): True,\n",
       " ('presaging', 'flashes'): True,\n",
       " ('prohibitory', 'clauses'): True,\n",
       " ('prudential', 'economies'): True,\n",
       " ('publicly', 'repeating'): True,\n",
       " ('purposeful', 'rekindling'): True,\n",
       " ('readjusts', 'compensations'): True,\n",
       " ('regional', 'groupings'): True,\n",
       " ('reverend', 'clergy'): True,\n",
       " ('rolling', 'mills'): True,\n",
       " ('ruthlessly', 'breaks'): True,\n",
       " ('sad', 'depletion'): True,\n",
       " ('scheming', 'politician'): True,\n",
       " ('settler', 'pushes'): True,\n",
       " ('shameful', 'confession'): True,\n",
       " ('shamefully', 'prodigal'): True,\n",
       " ('sharp', 'thrust'): True,\n",
       " ('shorten', 'distances'): True,\n",
       " ('shorter', 'waterway'): True,\n",
       " ('silently', 'stalks'): True,\n",
       " ('singly', 'cope'): True,\n",
       " ('skillful', 'artisans'): True,\n",
       " ('slaughtering', 'innocents'): True,\n",
       " ('surviving', 'warriors'): True,\n",
       " ('tangible', 'determinations'): True,\n",
       " ('tiny', 'fraction'): True,\n",
       " ('tropic', 'suns'): True,\n",
       " ('unbounded', 'hospitality'): True,\n",
       " ('unceasingly', 'preyed'): True,\n",
       " ('uncrossed', 'desert'): True,\n",
       " ('uniformly', 'outrun'): True,\n",
       " ('unitedly', 'marshals'): True,\n",
       " ('untried', 'cares'): True,\n",
       " ('unwholesome', 'progeny'): True,\n",
       " ('watchman', 'waketh'): True,\n",
       " ('watercourses', 'undeveloped'): True,\n",
       " ('wily', 'craft'): True,\n",
       " ('wings', '\";'): True,\n",
       " ('¡¨¡', 'Xthey'): True,\n",
       " (\"'\", 's'): True,\n",
       " ('Founding', 'Fathers'): True,\n",
       " ('Social', 'Security'): True,\n",
       " ('Indian', 'tribes'): True,\n",
       " ('Abraham', 'Lincoln'): True,\n",
       " ('specie', 'payments'): True,\n",
       " ('illegal', 'liquor'): True,\n",
       " ('merchant', 'marine'): True,\n",
       " ('Western', 'Hemisphere'): True,\n",
       " ('Old', 'World'): True,\n",
       " ('9', '/'): True,\n",
       " ('Assessing', 'realistically'): True,\n",
       " ('Bicentennial', 'Inauguration'): True,\n",
       " ('CONGRESS', 'Action'): True,\n",
       " ('Congressman', 'Michael'): True,\n",
       " ('Delano', 'Roosevelt'): True,\n",
       " ('Discouraging', 'indebtedness'): True,\n",
       " ('Disease', 'diminishes'): True,\n",
       " ('Franklin', 'Delano'): True,\n",
       " ('GOVERNMENT', 'TO'): True,\n",
       " ('Gettysburg', 'Address'): True,\n",
       " ('Gillis', 'Long'): True,\n",
       " ('Humanity', 'hungers'): True,\n",
       " ('John', 'Page'): True,\n",
       " ('John', 'Stennis'): True}"
      ]
     },
     "execution_count": 56,
     "metadata": {},
     "output_type": "execute_result"
    }
   ],
   "source": [
    "bigram_word_feats(text4)"
   ]
  },
  {
   "cell_type": "code",
   "execution_count": 57,
   "metadata": {},
   "outputs": [
    {
     "data": {
      "text/plain": [
       "'Fellow - Citizens of the Senate and of the House o'"
      ]
     },
     "execution_count": 57,
     "metadata": {},
     "output_type": "execute_result"
    }
   ],
   "source": [
    "text = ' '.join(text4.tokens)\n",
    "text[:50]\n"
   ]
  },
  {
   "cell_type": "code",
   "execution_count": 58,
   "metadata": {},
   "outputs": [
    {
     "name": "stdout",
     "output_type": "stream",
     "text": [
      "p(Citizens of) =  0.0013850415512465374\n",
      "p(Citizens) =  0.003231763619575254\n",
      "p(of) =  3.4653739612188366\n",
      "pmi =  -3.0154034686150966\n"
     ]
    }
   ],
   "source": [
    "import math\n",
    "vocab = len(set(text6))\n",
    "hg = text.count('Citizens of')/vocab\n",
    "print(\"p(Citizens of) = \", hg)\n",
    "h = text.count('Citizens')/vocab\n",
    "print(\"p(Citizens) = \", h)\n",
    "g = text.count('of')/vocab\n",
    "print('p(of) = ', g)\n",
    "pmi = math.log2(hg / (h * g))\n",
    "print('pmi = ', pmi)\n"
   ]
  },
  {
   "cell_type": "markdown",
   "metadata": {},
   "source": [
    "The probablity of these words is quite low, but citizens has a higher mutual information than of which shows that it is more likely to show up in the collocation."
   ]
  }
 ],
 "metadata": {
  "kernelspec": {
   "display_name": "Python 3.9.13 64-bit (microsoft store)",
   "language": "python",
   "name": "python3"
  },
  "language_info": {
   "codemirror_mode": {
    "name": "ipython",
    "version": 3
   },
   "file_extension": ".py",
   "mimetype": "text/x-python",
   "name": "python",
   "nbconvert_exporter": "python",
   "pygments_lexer": "ipython3",
   "version": "3.9.13"
  },
  "orig_nbformat": 4,
  "vscode": {
   "interpreter": {
    "hash": "14f32a1ef65e954a537a4d8ff23e1d99bb660fdc54f5c622bd6001605325d797"
   }
  }
 },
 "nbformat": 4,
 "nbformat_minor": 2
}
